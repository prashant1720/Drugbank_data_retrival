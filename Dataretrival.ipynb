{
 "cells": [
  {
   "cell_type": "code",
   "execution_count": 5,
   "id": "9bed9570",
   "metadata": {},
   "outputs": [
    {
     "name": "stdout",
     "output_type": "stream",
     "text": [
      "Requirement already satisfied: requests in c:\\users\\psharma2\\anaconda3\\envs\\s3env\\lib\\site-packages (2.27.1)\n",
      "Requirement already satisfied: charset-normalizer~=2.0.0 in c:\\users\\psharma2\\anaconda3\\envs\\s3env\\lib\\site-packages (from requests) (2.0.4)\n",
      "Requirement already satisfied: urllib3<1.27,>=1.21.1 in c:\\users\\psharma2\\anaconda3\\envs\\s3env\\lib\\site-packages (from requests) (1.26.9)\n",
      "Requirement already satisfied: idna<4,>=2.5 in c:\\users\\psharma2\\anaconda3\\envs\\s3env\\lib\\site-packages (from requests) (3.3)\n",
      "Requirement already satisfied: certifi>=2017.4.17 in c:\\users\\psharma2\\anaconda3\\envs\\s3env\\lib\\site-packages (from requests) (2021.10.8)\n"
     ]
    },
    {
     "name": "stderr",
     "output_type": "stream",
     "text": [
      "ERROR: Could not find a version that satisfies the requirement json (from versions: none)\n",
      "ERROR: No matching distribution found for json\n"
     ]
    }
   ],
   "source": [
    "!pip install requests\n"
   ]
  },
  {
   "cell_type": "code",
   "execution_count": 63,
   "id": "250a9ec0",
   "metadata": {},
   "outputs": [],
   "source": [
    "import requests\n",
    "import pandas as pd\n",
    "import json\n",
    "\n",
    "df = pd.DataFrame()  # create an empty DataFrame\n",
    "\n",
    "for i in range(1501, 1759):\n",
    "    url = f\"https://dgidb.org/api/v2/interactions?count=25&page={i}\"  # use f-string to interpolate value of i\n",
    "    headers = {\"Accept\": \"application/json\"}\n",
    "    response = requests.get(url, headers=headers)\n",
    "    data = json.loads(response.text)\n",
    "    newdf = pd.DataFrame(data['records'])\n",
    "    df = pd.concat([df, newdf],axis=0,ignore_index=True)  \n",
    "\n",
    "\n",
    "df.head(110)\n"
   ]
  },
  {
   "cell_type": "code",
   "execution_count": 64,
   "id": "ce551af0",
   "metadata": {},
   "outputs": [],
   "source": [
    "df.to_csv('dataset5.csv',)\n",
    "\n"
   ]
  },
  {
   "cell_type": "code",
   "execution_count": 58,
   "id": "5372281c",
   "metadata": {},
   "outputs": [
    {
     "data": {
      "text/plain": [
       "(12475, 10)"
      ]
     },
     "execution_count": 58,
     "metadata": {},
     "output_type": "execute_result"
    }
   ],
   "source": [
    "df.shape"
   ]
  },
  {
   "cell_type": "code",
   "execution_count": 65,
   "id": "541d71fa",
   "metadata": {},
   "outputs": [],
   "source": [
    "import pandas as pd\n",
    "\n",
    "# Read the four CSV files into separate pandas dataframes\n",
    "df6 = pd.read_csv('dataset2.csv')\n",
    "df7 = pd.read_csv('dataset3.csv')\n",
    "df8 = pd.read_csv('dataset4.csv')\n",
    "df9 = pd.read_csv('dataset5.csv')\n",
    "\n",
    "# Concatenate the four dataframes into a single dataframe\n",
    "combined_df = pd.concat([df6, df7, df8, df9])\n",
    "\n",
    "# Write the combined dataframe to a new CSV file\n",
    "combined_df.to_csv('finaldataset.csv', index=False)"
   ]
  },
  {
   "cell_type": "code",
   "execution_count": 67,
   "id": "8f3c9936",
   "metadata": {},
   "outputs": [
    {
     "data": {
      "text/html": [
       "<div>\n",
       "<style scoped>\n",
       "    .dataframe tbody tr th:only-of-type {\n",
       "        vertical-align: middle;\n",
       "    }\n",
       "\n",
       "    .dataframe tbody tr th {\n",
       "        vertical-align: top;\n",
       "    }\n",
       "\n",
       "    .dataframe thead th {\n",
       "        text-align: right;\n",
       "    }\n",
       "</style>\n",
       "<table border=\"1\" class=\"dataframe\">\n",
       "  <thead>\n",
       "    <tr style=\"text-align: right;\">\n",
       "      <th></th>\n",
       "      <th>id</th>\n",
       "      <th>gene_name</th>\n",
       "      <th>entrez_id</th>\n",
       "      <th>drug_name</th>\n",
       "      <th>concept_id</th>\n",
       "      <th>publications</th>\n",
       "      <th>interaction_types</th>\n",
       "      <th>interaction_direction</th>\n",
       "      <th>sources</th>\n",
       "      <th>score</th>\n",
       "    </tr>\n",
       "  </thead>\n",
       "  <tbody>\n",
       "    <tr>\n",
       "      <th>0</th>\n",
       "      <td>ac34598b-5351-413a-8c73-c19b8d04eede</td>\n",
       "      <td>OPRK1</td>\n",
       "      <td>4986</td>\n",
       "      <td>NALBUPHINE</td>\n",
       "      <td>chembl:CHEMBL895</td>\n",
       "      <td>[17407276, 22204910, 15655510, 17139284, 19403...</td>\n",
       "      <td>[agonist]</td>\n",
       "      <td>[activating]</td>\n",
       "      <td>[DTC, TdgClinicalTrial, TEND, TTD]</td>\n",
       "      <td>2.12</td>\n",
       "    </tr>\n",
       "    <tr>\n",
       "      <th>1</th>\n",
       "      <td>6cfe794c-1d0a-49a1-a7e3-a3022053ecae</td>\n",
       "      <td>OPRK1</td>\n",
       "      <td>4986</td>\n",
       "      <td>HYDROCODONE</td>\n",
       "      <td>chembl:CHEMBL1457</td>\n",
       "      <td>[]</td>\n",
       "      <td>[agonist]</td>\n",
       "      <td>[activating]</td>\n",
       "      <td>[TEND]</td>\n",
       "      <td>0.18</td>\n",
       "    </tr>\n",
       "    <tr>\n",
       "      <th>2</th>\n",
       "      <td>46739653-7f5a-4a71-abf1-40fe29fbe578</td>\n",
       "      <td>RARA</td>\n",
       "      <td>5914</td>\n",
       "      <td>ACITRETIN</td>\n",
       "      <td>chembl:CHEMBL1131</td>\n",
       "      <td>[9074840, 10459139, 19144697, 9153406]</td>\n",
       "      <td>[agonist]</td>\n",
       "      <td>[activating]</td>\n",
       "      <td>[TdgClinicalTrial, ChemblInteractions, TEND]</td>\n",
       "      <td>0.90</td>\n",
       "    </tr>\n",
       "    <tr>\n",
       "      <th>3</th>\n",
       "      <td>ff784e4c-7bba-45c0-a5ef-cab520328684</td>\n",
       "      <td>GNRHR</td>\n",
       "      <td>2798</td>\n",
       "      <td>DEGARELIX ACETATE</td>\n",
       "      <td>chembl:CHEMBL2028987</td>\n",
       "      <td>[]</td>\n",
       "      <td>[antagonist]</td>\n",
       "      <td>[inhibitory]</td>\n",
       "      <td>[ChemblInteractions]</td>\n",
       "      <td>2.06</td>\n",
       "    </tr>\n",
       "    <tr>\n",
       "      <th>4</th>\n",
       "      <td>a5296b5b-d8d4-4d32-b56f-233915435a9a</td>\n",
       "      <td>SPR</td>\n",
       "      <td>6697</td>\n",
       "      <td>VOFOPITANT</td>\n",
       "      <td>chembl:CHEMBL522302</td>\n",
       "      <td>[]</td>\n",
       "      <td>[antagonist]</td>\n",
       "      <td>[inhibitory]</td>\n",
       "      <td>[ChemblInteractions]</td>\n",
       "      <td>2.21</td>\n",
       "    </tr>\n",
       "    <tr>\n",
       "      <th>...</th>\n",
       "      <td>...</td>\n",
       "      <td>...</td>\n",
       "      <td>...</td>\n",
       "      <td>...</td>\n",
       "      <td>...</td>\n",
       "      <td>...</td>\n",
       "      <td>...</td>\n",
       "      <td>...</td>\n",
       "      <td>...</td>\n",
       "      <td>...</td>\n",
       "    </tr>\n",
       "    <tr>\n",
       "      <th>6445</th>\n",
       "      <td>f22174ff-b090-47c1-8151-4f8e146fe6bf</td>\n",
       "      <td>TAOK1</td>\n",
       "      <td>57551</td>\n",
       "      <td>LINIFANIB</td>\n",
       "      <td>chembl:CHEMBL223360</td>\n",
       "      <td>[]</td>\n",
       "      <td>[]</td>\n",
       "      <td>[]</td>\n",
       "      <td>[DTC]</td>\n",
       "      <td>0.03</td>\n",
       "    </tr>\n",
       "    <tr>\n",
       "      <th>6446</th>\n",
       "      <td>db322937-7243-4a09-ab55-2a4cd9c1e41b</td>\n",
       "      <td>VDR</td>\n",
       "      <td>7421</td>\n",
       "      <td>METHOTREXATE</td>\n",
       "      <td>chembl:CHEMBL34259</td>\n",
       "      <td>[]</td>\n",
       "      <td>[]</td>\n",
       "      <td>[]</td>\n",
       "      <td>[DTC]</td>\n",
       "      <td>0.00</td>\n",
       "    </tr>\n",
       "    <tr>\n",
       "      <th>6447</th>\n",
       "      <td>57fdc9f4-9b0a-4459-91ce-eacffd8a6c0e</td>\n",
       "      <td>PKM</td>\n",
       "      <td>5315</td>\n",
       "      <td>CHEMBL473721</td>\n",
       "      <td>chembl:CHEMBL473721</td>\n",
       "      <td>[]</td>\n",
       "      <td>[]</td>\n",
       "      <td>[]</td>\n",
       "      <td>[DTC]</td>\n",
       "      <td>0.23</td>\n",
       "    </tr>\n",
       "    <tr>\n",
       "      <th>6448</th>\n",
       "      <td>7b45b9ef-2b35-4301-b1aa-d1aed02e33c9</td>\n",
       "      <td>MAPK11</td>\n",
       "      <td>5600</td>\n",
       "      <td>PIRFENIDONE</td>\n",
       "      <td>chembl:CHEMBL1256391</td>\n",
       "      <td>[]</td>\n",
       "      <td>[]</td>\n",
       "      <td>[]</td>\n",
       "      <td>[TdgClinicalTrial]</td>\n",
       "      <td>0.38</td>\n",
       "    </tr>\n",
       "    <tr>\n",
       "      <th>6449</th>\n",
       "      <td>527f7fac-27f7-4435-aa9c-b9d850e2269b</td>\n",
       "      <td>THRB</td>\n",
       "      <td>7068</td>\n",
       "      <td>PRIMAQUINE PHOSPHATE</td>\n",
       "      <td>chembl:CHEMBL43128</td>\n",
       "      <td>[]</td>\n",
       "      <td>[]</td>\n",
       "      <td>[]</td>\n",
       "      <td>[DTC]</td>\n",
       "      <td>0.32</td>\n",
       "    </tr>\n",
       "  </tbody>\n",
       "</table>\n",
       "<p>6450 rows × 10 columns</p>\n",
       "</div>"
      ],
      "text/plain": [
       "                                        id gene_name  entrez_id  \\\n",
       "0     ac34598b-5351-413a-8c73-c19b8d04eede     OPRK1       4986   \n",
       "1     6cfe794c-1d0a-49a1-a7e3-a3022053ecae     OPRK1       4986   \n",
       "2     46739653-7f5a-4a71-abf1-40fe29fbe578      RARA       5914   \n",
       "3     ff784e4c-7bba-45c0-a5ef-cab520328684     GNRHR       2798   \n",
       "4     a5296b5b-d8d4-4d32-b56f-233915435a9a       SPR       6697   \n",
       "...                                    ...       ...        ...   \n",
       "6445  f22174ff-b090-47c1-8151-4f8e146fe6bf     TAOK1      57551   \n",
       "6446  db322937-7243-4a09-ab55-2a4cd9c1e41b       VDR       7421   \n",
       "6447  57fdc9f4-9b0a-4459-91ce-eacffd8a6c0e       PKM       5315   \n",
       "6448  7b45b9ef-2b35-4301-b1aa-d1aed02e33c9    MAPK11       5600   \n",
       "6449  527f7fac-27f7-4435-aa9c-b9d850e2269b      THRB       7068   \n",
       "\n",
       "                 drug_name            concept_id  \\\n",
       "0               NALBUPHINE      chembl:CHEMBL895   \n",
       "1              HYDROCODONE     chembl:CHEMBL1457   \n",
       "2                ACITRETIN     chembl:CHEMBL1131   \n",
       "3        DEGARELIX ACETATE  chembl:CHEMBL2028987   \n",
       "4               VOFOPITANT   chembl:CHEMBL522302   \n",
       "...                    ...                   ...   \n",
       "6445             LINIFANIB   chembl:CHEMBL223360   \n",
       "6446          METHOTREXATE    chembl:CHEMBL34259   \n",
       "6447          CHEMBL473721   chembl:CHEMBL473721   \n",
       "6448           PIRFENIDONE  chembl:CHEMBL1256391   \n",
       "6449  PRIMAQUINE PHOSPHATE    chembl:CHEMBL43128   \n",
       "\n",
       "                                           publications interaction_types  \\\n",
       "0     [17407276, 22204910, 15655510, 17139284, 19403...         [agonist]   \n",
       "1                                                    []         [agonist]   \n",
       "2                [9074840, 10459139, 19144697, 9153406]         [agonist]   \n",
       "3                                                    []      [antagonist]   \n",
       "4                                                    []      [antagonist]   \n",
       "...                                                 ...               ...   \n",
       "6445                                                 []                []   \n",
       "6446                                                 []                []   \n",
       "6447                                                 []                []   \n",
       "6448                                                 []                []   \n",
       "6449                                                 []                []   \n",
       "\n",
       "     interaction_direction                                       sources  \\\n",
       "0             [activating]            [DTC, TdgClinicalTrial, TEND, TTD]   \n",
       "1             [activating]                                        [TEND]   \n",
       "2             [activating]  [TdgClinicalTrial, ChemblInteractions, TEND]   \n",
       "3             [inhibitory]                          [ChemblInteractions]   \n",
       "4             [inhibitory]                          [ChemblInteractions]   \n",
       "...                    ...                                           ...   \n",
       "6445                    []                                         [DTC]   \n",
       "6446                    []                                         [DTC]   \n",
       "6447                    []                                         [DTC]   \n",
       "6448                    []                            [TdgClinicalTrial]   \n",
       "6449                    []                                         [DTC]   \n",
       "\n",
       "      score  \n",
       "0      2.12  \n",
       "1      0.18  \n",
       "2      0.90  \n",
       "3      2.06  \n",
       "4      2.21  \n",
       "...     ...  \n",
       "6445   0.03  \n",
       "6446   0.00  \n",
       "6447   0.23  \n",
       "6448   0.38  \n",
       "6449   0.32  \n",
       "\n",
       "[6450 rows x 10 columns]"
      ]
     },
     "execution_count": 67,
     "metadata": {},
     "output_type": "execute_result"
    }
   ],
   "source": [
    "df"
   ]
  },
  {
   "cell_type": "code",
   "execution_count": 73,
   "id": "493a788f",
   "metadata": {},
   "outputs": [
    {
     "data": {
      "image/png": "[encoded data removed]",
      "text/plain": [
       "<Figure size 1296x432 with 1 Axes>"
      ]
     },
     "metadata": {
      "needs_background": "light"
     },
     "output_type": "display_data"
    }
   ],
   "source": [
    "import seaborn as sns\n",
    "import matplotlib.pyplot as plt\n",
    "import pandas as pd\n",
    "df_first_20 = df.head(20)\n",
    "plt.figure(figsize=(18, 6))\n",
    "sns.scatterplot(data=df_first_20, x='gene_name', y='score')\n",
    "plt.show()"
   ]
  },
  {
   "cell_type": "code",
   "execution_count": 77,
   "id": "8e01e462",
   "metadata": {},
   "outputs": [
    {
     "data": {
      "image/png": "[encoded data removed]",
      "text/plain": [
       "<Figure size 1296x720 with 1 Axes>"
      ]
     },
     "metadata": {
      "needs_background": "light"
     },
     "output_type": "display_data"
    }
   ],
   "source": [
    "import seaborn as sns\n",
    "import matplotlib.pyplot as plt\n",
    "import pandas as pd\n",
    "df_first_20 = df.head(20)\n",
    "plt.figure(figsize=(18, 10))\n",
    "sns.scatterplot(data=df_first_20, x='gene_name', y='drug_name')\n",
    "plt.show()"
   ]
  },
  {
   "cell_type": "code",
   "execution_count": null,
   "id": "277e9272",
   "metadata": {},
   "outputs": [],
   "source": []
  }
 ],
 "metadata": {
  "kernelspec": {
   "display_name": "Python 3 (ipykernel)",
   "language": "python",
   "name": "python3"
  },
  "language_info": {
   "codemirror_mode": {
    "name": "ipython",
    "version": 3
   },
   "file_extension": ".py",
   "mimetype": "text/x-python",
   "name": "python",
   "nbconvert_exporter": "python",
   "pygments_lexer": "ipython3",
   "version": "3.9.12"
  }
 },
 "nbformat": 4,
 "nbformat_minor": 5
}
